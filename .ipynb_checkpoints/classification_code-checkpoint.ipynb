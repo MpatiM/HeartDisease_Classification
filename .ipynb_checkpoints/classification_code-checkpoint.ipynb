{
 "cells": [
  {
   "cell_type": "code",
   "execution_count": 1,
   "id": "04864b21-d099-4fd0-afd9-b7b5139fd486",
   "metadata": {},
   "outputs": [],
   "source": [
    "# Dependencies\n",
    "import pandas as pd\n",
    "import numpy as np\n"
   ]
  },
  {
   "cell_type": "code",
   "execution_count": 3,
   "id": "ade3fab3-41a9-4fd8-9bc0-2b1430e5cd0f",
   "metadata": {},
   "outputs": [],
   "source": [
    "# Reading File\n",
    "c_df = pd.read_csv('cleveland.txt', header=0)\n",
    "v_df = pd.read_csv('va.txt', header=0)\n",
    "\n",
    "# Add headers\n",
    "c_df"
   ]
  },
  {
   "cell_type": "code",
   "execution_count": 8,
   "id": "3bffcb9d-008b-46d8-bb78-fa9fcd8f5cad",
   "metadata": {},
   "outputs": [
    {
     "data": {
      "text/plain": [
       "63.0     float64\n",
       "1.0      float64\n",
       "1.0.1    float64\n",
       "145.0    float64\n",
       "233.0    float64\n",
       "1.0.2    float64\n",
       "2.0      float64\n",
       "150.0    float64\n",
       "0.0      float64\n",
       "2.3      float64\n",
       "3.0      float64\n",
       "0.0.1     object\n",
       "6.0       object\n",
       "0          int64\n",
       "dtype: object"
      ]
     },
     "execution_count": 8,
     "metadata": {},
     "output_type": "execute_result"
    }
   ],
   "source": [
    "c_df.dtypes"
   ]
  },
  {
   "cell_type": "code",
   "execution_count": null,
   "id": "947d44d0-ba16-46dc-96f1-87d8c0eff477",
   "metadata": {},
   "outputs": [],
   "source": []
  }
 ],
 "metadata": {
  "kernelspec": {
   "display_name": "Python 3 (ipykernel)",
   "language": "python",
   "name": "python3"
  },
  "language_info": {
   "codemirror_mode": {
    "name": "ipython",
    "version": 3
   },
   "file_extension": ".py",
   "mimetype": "text/x-python",
   "name": "python",
   "nbconvert_exporter": "python",
   "pygments_lexer": "ipython3",
   "version": "3.11.5"
  }
 },
 "nbformat": 4,
 "nbformat_minor": 5
}
