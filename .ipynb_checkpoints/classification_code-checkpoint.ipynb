{
 "cells": [
  {
   "cell_type": "code",
   "execution_count": 1,
   "id": "04864b21-d099-4fd0-afd9-b7b5139fd486",
   "metadata": {},
   "outputs": [],
   "source": [
    "# Dependencies\n",
    "import pandas as pd\n",
    "import numpy as np\n"
   ]
  },
  {
   "cell_type": "code",
   "execution_count": 3,
   "id": "ade3fab3-41a9-4fd8-9bc0-2b1430e5cd0f",
   "metadata": {},
   "outputs": [],
   "source": [
    "# Reading File\n",
    "c_df = pd.read_csv('cleveland.txt', header=0)\n",
    "v_df = pd.read_csv('va.txt', header=0)\n"
   ]
  },
  {
   "cell_type": "code",
   "execution_count": null,
   "id": "daeb1e9f-9633-4f31-a12c-9a362f3f126b",
   "metadata": {},
   "outputs": [],
   "source": []
  }
 ],
 "metadata": {
  "kernelspec": {
   "display_name": "Python 3 (ipykernel)",
   "language": "python",
   "name": "python3"
  },
  "language_info": {
   "codemirror_mode": {
    "name": "ipython",
    "version": 3
   },
   "file_extension": ".py",
   "mimetype": "text/x-python",
   "name": "python",
   "nbconvert_exporter": "python",
   "pygments_lexer": "ipython3",
   "version": "3.11.5"
  }
 },
 "nbformat": 4,
 "nbformat_minor": 5
}
