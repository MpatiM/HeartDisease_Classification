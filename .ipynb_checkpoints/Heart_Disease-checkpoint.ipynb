{
 "cells": [
  {
   "cell_type": "code",
   "execution_count": null,
   "id": "84905eb7-2f5a-4cdb-bf4e-9a7e82cf102f",
   "metadata": {},
   "outputs": [],
   "source": [
    "#Import Dependencies\n",
    "import numpy as np\n",
    "import pandas as pd\n",
    "import os\n",
    "import tensorflow as tf\n",
    "from sklearn.model_selection import train_test_split\n",
    "import warnings\n",
    "warnings.filterwarnings('ignore')\n",
    "from sklearn.cluster import KMeans\n",
    "from sklearn.preprocessing import StandardScaler\n",
    "from pathlib import Path"
   ]
  },
  {
   "cell_type": "code",
   "execution_count": null,
   "id": "eb87e826-2ef6-4c49-9113-5f0e496c90cf",
   "metadata": {},
   "outputs": [],
   "source": [
    "#read in the txt file 1\n",
    "df = pd.read_csv(\"cleveland.txt\", header=None)\n",
    "df.head(30)\n"
   ]
  },
  {
   "cell_type": "code",
   "execution_count": null,
   "id": "8ed0074b-e4fb-42b4-a465-0057647d4944",
   "metadata": {},
   "outputs": [],
   "source": [
    "#read in txt file 2\n",
    "df2 = pd.read_csv(\"va.txt\", header = None)\n",
    "df2.head(30)"
   ]
  },
  {
   "cell_type": "code",
   "execution_count": null,
   "id": "16629a0d-7cd7-4da8-b500-1d27643820ce",
   "metadata": {},
   "outputs": [],
   "source": [
    "#combine the data into one data frame\n",
    "df3 = pd.concat([df, df2], axis = 0)\n",
    "df3"
   ]
  },
  {
   "cell_type": "code",
   "execution_count": null,
   "id": "c76d960e-faa2-4122-be9b-b91d80e3d6e9",
   "metadata": {},
   "outputs": [],
   "source": [
    "#rename the columns\n",
    "renamed_df3 = df3.rename(columns={df.columns[0]:'Age', df.columns[1]:'Sex', df.columns[2]:'Chest Pain Type',df.columns[3]:'Resting Blood Pressure',\n",
    "                   df.columns[4]:'Cholesterol', df.columns[5]:'Fasting Blood Sugar', df.columns[6]:'Resting EKG',\n",
    "                   df.columns[7]:'Max Heart Rate', df.columns[8]:'Exercise Enduced Chest Pain', df.columns[9]:'STDep Induced by Exercise',\n",
    "                   df.columns[10]:'Slope of Peak Exercise ST', df.columns[11]:'Major Vessels Colored', df.columns[12]:'Defect Type', \n",
    "                   df.columns[13]:'Diagnosis'})\n",
    "\n",
    "renamed_df3"
   ]
  },
  {
   "cell_type": "code",
   "execution_count": null,
   "id": "be2d91eb-2434-4ad1-8b8e-6079ad56a3af",
   "metadata": {},
   "outputs": [],
   "source": [
    "#drop columns with alot of null values\n",
    "cleaned_df3 = renamed_df3.drop(columns=['Major Vessels Colored', 'Defect Type'])\n",
    "cleaned_df3"
   ]
  },
  {
   "cell_type": "code",
   "execution_count": null,
   "id": "96cc9a02-521a-4cdb-8016-84b302adc5f6",
   "metadata": {},
   "outputs": [],
   "source": [
    "#replace question marks with 0\n",
    "df4 = cleaned_df3.replace(to_replace = '?', value = 0)\n",
    "df4"
   ]
  },
  {
   "cell_type": "code",
   "execution_count": null,
   "id": "0c3e1f61-9469-4b42-93a3-8c36e8419a10",
   "metadata": {},
   "outputs": [],
   "source": [
    "#export new dataframe to csv\n",
    "df4.to_csv('heartdisease.csv')"
   ]
  },
  {
   "cell_type": "code",
   "execution_count": null,
   "id": "50fa7b71-6312-4280-a476-575650402c50",
   "metadata": {},
   "outputs": [],
   "source": [
    "#perform value counts on the dagnosis data for preprocessing\n",
    "Diagnosis_counts = df4['Diagnosis'].value_counts()\n",
    "Diagnosis_counts"
   ]
  },
  {
   "cell_type": "code",
   "execution_count": null,
   "id": "112f36ff-fe22-4c87-84f6-8f844fde8515",
   "metadata": {},
   "outputs": [],
   "source": []
  },
  {
   "cell_type": "code",
   "execution_count": null,
   "id": "1043c364-3174-44f4-885f-8dabe2672a86",
   "metadata": {},
   "outputs": [],
   "source": []
  }
 ],
 "metadata": {
  "kernelspec": {
   "display_name": "Python 3 (ipykernel)",
   "language": "python",
   "name": "python3"
  },
  "language_info": {
   "codemirror_mode": {
    "name": "ipython",
    "version": 3
   },
   "file_extension": ".py",
   "mimetype": "text/x-python",
   "name": "python",
   "nbconvert_exporter": "python",
   "pygments_lexer": "ipython3",
   "version": "3.10.14"
  }
 },
 "nbformat": 4,
 "nbformat_minor": 5
}
